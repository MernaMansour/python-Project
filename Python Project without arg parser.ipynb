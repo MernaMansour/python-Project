{
 "cells": [
  {
   "cell_type": "code",
   "execution_count": 53,
   "id": "811155a8",
   "metadata": {},
   "outputs": [],
   "source": [
    "import os \n",
    "import shutil as sh\n",
    "class File_handling:\n",
    "  #1sr function for searching\n",
    "  def Search_file(path):\n",
    "    exists=os.path.exists(path)\n",
    "    if exists==True:\n",
    "        print(\"the file exists\")\n",
    "    else:\n",
    "        print(\"the file does not extist\")\n",
    "  #2nd function for renaming\n",
    "  def Rename_file(original_name,new_name):\n",
    "    os.rename(original_name,new_name)\n",
    "  #3rd function for modifing\n",
    "  def Modify_content(path,original_content,new_content):\n",
    "    with open(path, \"r\") as file:\n",
    "      content = file.read()\n",
    "      modified_content = content.replace(original_content,new_content)\n",
    "    with open(path, \"w\") as file:\n",
    "      file.write(modified_content)\n",
    "    print(\"File content modified successfully\")\n",
    "  #4th function for coping\n",
    "  def Copy_files(file_names,original_path,target_path):\n",
    "    for file_name in file_names:\n",
    "        full_original_path = os.path.join(original_path, file_name)\n",
    "        full_target_path = os.path.join(target_path, file_name)\n",
    "        sh.copyfile(full_original_path, full_target_path)\n",
    "        print(f\"Copied {file_name} to {target_path}\")\n",
    "  #5th function for moving\n",
    "  def Move_file(file_names,original_path,target_path):\n",
    "    for file_name in file_names:\n",
    "        full_original_path = os.path.join(original_path, file_name)\n",
    "        full_target_path = os.path.join(target_path, file_name)\n",
    "        sh.move(full_original_path, full_target_path)\n",
    "        print(f\"Moved {file_name} to {target_path}\")\n",
    "  #6th function search by findig the firector\n",
    "  def Find_file_directory(first_path, file_name):\n",
    "    for root, dirs, files in os.walk(first_path):\n",
    "        if file_name in files:\n",
    "            print(root)\n",
    "        \n",
    " "
   ]
  },
  {
   "cell_type": "code",
   "execution_count": 54,
   "id": "79aabd17",
   "metadata": {},
   "outputs": [
    {
     "name": "stdout",
     "output_type": "stream",
     "text": [
      "Please enter your operation on file \n",
      "S for Search \n",
      "R for Rename \n",
      "M for Modify \n",
      "C for copying files \n",
      "X for moving files \n",
      "F for finding the directory: \n",
      "F\n",
      "please enter the start directoryD:\\\n",
      "please enter the file nameDeutsch.pdf\n",
      "D:\\german\n"
     ]
    }
   ],
   "source": [
    "if __name__ == '__main__':\n",
    "    input_Char=input(\"Please enter your operation on file \\nS for Search \\nR for Rename \\nM for Modify \\nC for copying files \\nX for moving files \\nF for finding the directory: \\n\")\n",
    "  #create an object Files_operations frim File_handling class\n",
    "    Files_operations=File_handling\n",
    "  # inout char for the operation that user need to be done on files\n",
    "    if input_Char=='S': #S search operation\n",
    "        path_Search=input(\"please enter the path\")\n",
    "        Files_operations.Search_file(path_Search)\n",
    "    elif input_Char=='R':#R rename operation\n",
    "        original_name=input(\"please enter the name of the file\")\n",
    "        new_name=input(\"please enter the new name\")\n",
    "        Files_operations.Rename_file(original_name,new_name)\n",
    "    elif input_Char=='M':#M modify operation\n",
    "        path_modify=input(\"please enter the path of the file to be modified\")\n",
    "        original_content=input(\"please enter the original content to be replace\")\n",
    "        new_content=input(\"please enter the new content\")\n",
    "        Files_operations.Modify_content(path_modify,original_content,new_content)\n",
    "    elif input_Char=='C':#c copy operation\n",
    "        fileName_copy = list(input(\"please enter file names\").rstrip().split())\n",
    "        original_path=input(\"please enter the original path to be copied from\")\n",
    "        target_path=input(\"please enter the target path to copy the files to\")\n",
    "        Files_operations.Copy_files(fileName_copy,original_path,target_path)\n",
    "    elif input_Char=='X':\n",
    "        fileName_move = list(input(\"please enter file names\").rstrip().split())\n",
    "        original_path=input(\"please enter the original path to be moved from\")\n",
    "        target_path=input(\"please enter the target path to move the files to\")\n",
    "        Files_operations.Move_file(fileName_move,original_path,target_path)\n",
    "    elif input_Char=='F':\n",
    "        first_path=input(\"please enter the start directory\")\n",
    "        file_name=input(\"please enter the file name\")\n",
    "        Files_operations.Find_file_directory(first_path, file_name)\n",
    "    else:\n",
    "        print(\"please enter one of the perivous operations\")\n",
    "\n",
    "\n",
    "\n",
    "\n",
    "\n"
   ]
  },
  {
   "cell_type": "code",
   "execution_count": null,
   "id": "d15083e8",
   "metadata": {},
   "outputs": [],
   "source": []
  }
 ],
 "metadata": {
  "kernelspec": {
   "display_name": "Python 3 (ipykernel)",
   "language": "python",
   "name": "python3"
  },
  "language_info": {
   "codemirror_mode": {
    "name": "ipython",
    "version": 3
   },
   "file_extension": ".py",
   "mimetype": "text/x-python",
   "name": "python",
   "nbconvert_exporter": "python",
   "pygments_lexer": "ipython3",
   "version": "3.9.12"
  }
 },
 "nbformat": 4,
 "nbformat_minor": 5
}
